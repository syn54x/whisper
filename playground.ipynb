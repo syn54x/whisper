{
 "cells": [
  {
   "cell_type": "code",
   "execution_count": 1,
   "metadata": {},
   "outputs": [
    {
     "data": {
      "text/plain": [
       "{'default': FieldInfo(annotation=str, required=False, default='openai'),\n",
       " 'openai': FieldInfo(annotation=OpenAIConfig, required=True),\n",
       " 'anthropic': FieldInfo(annotation=AnthropicConfig, required=True)}"
      ]
     },
     "execution_count": 1,
     "metadata": {},
     "output_type": "execute_result"
    }
   ],
   "source": [
    "from whisper.settings import UserConfig\n",
    "\n",
    "UserConfig.model_fields"
   ]
  },
  {
   "cell_type": "code",
   "execution_count": 2,
   "metadata": {},
   "outputs": [
    {
     "name": "stdout",
     "output_type": "stream",
     "text": [
      "default = \"openai\"\n",
      "\n",
      "[openai]\n",
      "api_key = \"replace-me\"\n",
      "model = \"gpt-3.5-turbo\"\n",
      "\n",
      "[anthropic]\n",
      "api_key = \"replace-me\"\n",
      "model = \"claude-3-5-sonnet-20240620\"\n",
      "\n"
     ]
    }
   ],
   "source": [
    "UserConfig.initialize(1)"
   ]
  },
  {
   "cell_type": "code",
   "execution_count": 3,
   "metadata": {},
   "outputs": [
    {
     "data": {
      "text/plain": [
       "str"
      ]
     },
     "execution_count": 3,
     "metadata": {},
     "output_type": "execute_result"
    }
   ],
   "source": [
    "type(UserConfig.model_fields[\"openai\"].annotation.model_fields[\"api_key\"].default)\n",
    "# UserConfig.model_fields[\"openai\"].annotation.model_fields[\"api_key\"].get_default()"
   ]
  },
  {
   "cell_type": "code",
   "execution_count": 9,
   "metadata": {},
   "outputs": [
    {
     "data": {
      "text/html": [
       "<pre style=\"white-space:pre;overflow-x:auto;line-height:normal;font-family:Menlo,'DejaVu Sans Mono',consolas,'Courier New',monospace\"><span style=\"background-color: #272822\">                                                                                                                   </span>\n",
       "<span style=\"color: #959077; text-decoration-color: #959077; background-color: #272822\">## Hello World</span><span style=\"background-color: #272822\">                                                                                                     </span>\n",
       "<span style=\"background-color: #272822\">                                                                                                                   </span>\n",
       "<span style=\"color: #e6db74; text-decoration-color: #e6db74; background-color: #272822\">```</span><span style=\"color: #f8f8f2; text-decoration-color: #f8f8f2; background-color: #272822\">bash</span><span style=\"background-color: #272822\">                                                                                                            </span>\n",
       "<span style=\"color: #f8f8f2; text-decoration-color: #f8f8f2; background-color: #272822\">def hello</span><span style=\"color: #ff4689; text-decoration-color: #ff4689; background-color: #272822\">()</span><span style=\"color: #f8f8f2; text-decoration-color: #f8f8f2; background-color: #272822\">:</span><span style=\"background-color: #272822\">                                                                                                       </span>\n",
       "<span style=\"color: #f8f8f2; text-decoration-color: #f8f8f2; background-color: #272822\">    print</span><span style=\"color: #ff4689; text-decoration-color: #ff4689; background-color: #272822\">(</span><span style=\"color: #e6db74; text-decoration-color: #e6db74; background-color: #272822\">\"Hello, World!\"</span><span style=\"color: #ff4689; text-decoration-color: #ff4689; background-color: #272822\">)</span><span style=\"background-color: #272822\">                                                                                         </span>\n",
       "<span style=\"color: #e6db74; text-decoration-color: #e6db74; background-color: #272822\">```</span><span style=\"background-color: #272822\">                                                                                                                </span>\n",
       "<span style=\"background-color: #272822\">                                                                                                                   </span>\n",
       "</pre>\n"
      ],
      "text/plain": [
       "\u001b[48;2;39;40;34m                                                                                                                   \u001b[0m\n",
       "\u001b[38;2;149;144;119;48;2;39;40;34m## Hello World\u001b[0m\u001b[48;2;39;40;34m                                                                                                     \u001b[0m\n",
       "\u001b[48;2;39;40;34m                                                                                                                   \u001b[0m\n",
       "\u001b[38;2;230;219;116;48;2;39;40;34m`\u001b[0m\u001b[38;2;230;219;116;48;2;39;40;34m`\u001b[0m\u001b[38;2;230;219;116;48;2;39;40;34m`\u001b[0m\u001b[38;2;248;248;242;48;2;39;40;34mbash\u001b[0m\u001b[48;2;39;40;34m                                                                                                            \u001b[0m\n",
       "\u001b[38;2;248;248;242;48;2;39;40;34mdef\u001b[0m\u001b[38;2;248;248;242;48;2;39;40;34m \u001b[0m\u001b[38;2;248;248;242;48;2;39;40;34mhello\u001b[0m\u001b[38;2;255;70;137;48;2;39;40;34m(\u001b[0m\u001b[38;2;255;70;137;48;2;39;40;34m)\u001b[0m\u001b[38;2;248;248;242;48;2;39;40;34m:\u001b[0m\u001b[48;2;39;40;34m                                                                                                       \u001b[0m\n",
       "\u001b[38;2;248;248;242;48;2;39;40;34m    \u001b[0m\u001b[38;2;248;248;242;48;2;39;40;34mprint\u001b[0m\u001b[38;2;255;70;137;48;2;39;40;34m(\u001b[0m\u001b[38;2;230;219;116;48;2;39;40;34m\"Hello, World!\"\u001b[0m\u001b[38;2;255;70;137;48;2;39;40;34m)\u001b[0m\u001b[48;2;39;40;34m                                                                                         \u001b[0m\n",
       "\u001b[38;2;230;219;116;48;2;39;40;34m`\u001b[0m\u001b[38;2;230;219;116;48;2;39;40;34m`\u001b[0m\u001b[38;2;230;219;116;48;2;39;40;34m`\u001b[0m\u001b[48;2;39;40;34m                                                                                                                \u001b[0m\n",
       "\u001b[48;2;39;40;34m                                                                                                                   \u001b[0m\n"
      ]
     },
     "metadata": {},
     "output_type": "display_data"
    }
   ],
   "source": [
    "from rich.console import Console\n",
    "from rich.syntax import Syntax\n",
    "\n",
    "msg = \"\"\"\n",
    "## Hello World\n",
    "\n",
    "```bash\n",
    "def hello():\n",
    "    print(\"Hello, World!\")\n",
    "```\n",
    "\"\"\"\n",
    "\n",
    "console = Console()\n",
    "syntax = Syntax(msg, \"bash\", theme=\"monokai\")\n",
    "console.print(syntax)"
   ]
  },
  {
   "cell_type": "code",
   "execution_count": null,
   "metadata": {},
   "outputs": [],
   "source": []
  }
 ],
 "metadata": {
  "kernelspec": {
   "display_name": ".venv",
   "language": "python",
   "name": "python3"
  },
  "language_info": {
   "codemirror_mode": {
    "name": "ipython",
    "version": 3
   },
   "file_extension": ".py",
   "mimetype": "text/x-python",
   "name": "python",
   "nbconvert_exporter": "python",
   "pygments_lexer": "ipython3",
   "version": "3.12.6"
  }
 },
 "nbformat": 4,
 "nbformat_minor": 2
}
